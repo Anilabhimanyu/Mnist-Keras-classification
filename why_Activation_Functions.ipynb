{
  "nbformat": 4,
  "nbformat_minor": 0,
  "metadata": {
    "colab": {
      "provenance": [],
      "authorship_tag": "ABX9TyPZcW95/kOSeHRrUMe3O8l7",
      "include_colab_link": true
    },
    "kernelspec": {
      "name": "python3",
      "display_name": "Python 3"
    },
    "language_info": {
      "name": "python"
    }
  },
  "cells": [
    {
      "cell_type": "markdown",
      "metadata": {
        "id": "view-in-github",
        "colab_type": "text"
      },
      "source": [
        "<a href=\"https://colab.research.google.com/github/Anilabhimanyu/mnist_keras_classification/blob/main/why_Activation_Functions.ipynb\" target=\"_parent\"><img src=\"https://colab.research.google.com/assets/colab-badge.svg\" alt=\"Open In Colab\"/></a>"
      ]
    },
    {
      "cell_type": "markdown",
      "source": [
        "generally weight function and activatio function helps to \n",
        "prediction because by using only linear equation such as y=mx+b\n",
        " can't solve all real world problems"
      ],
      "metadata": {
        "id": "ZrT-orBDNEiM"
      }
    },
    {
      "cell_type": "markdown",
      "source": [
        "# various activation function"
      ],
      "metadata": {
        "id": "6a9FfMgcNuas"
      }
    },
    {
      "cell_type": "code",
      "source": [
        "1.step function         ex; steps\n",
        "2.sigmoid function  range(0,1)  ex: s shape\n",
        "3.tanh  range(-1,1)"
      ],
      "metadata": {
        "id": "lJ58KXYTNsE-"
      },
      "execution_count": null,
      "outputs": []
    },
    {
      "cell_type": "markdown",
      "source": [
        "**Note: use sigmoid in output layer. All other places try to use tanh**"
      ],
      "metadata": {
        "id": "F2sr213rOX_t"
      }
    },
    {
      "cell_type": "markdown",
      "source": [
        "## Issues with sigmoid and tanh activation\n",
        "\n",
        "1. vanishing gradients i.e, slope changes for all points  \n",
        "slope= $delta(y)/delta(x)$\n"
      ],
      "metadata": {
        "id": "l5-lg96cPTtJ"
      }
    },
    {
      "cell_type": "markdown",
      "source": [
        "# ReLU"
      ],
      "metadata": {
        "id": "fbEQPYgTS8_k"
      }
    },
    {
      "cell_type": "markdown",
      "source": [
        "**Note: for hidden layers if you are not sure which activation function to use, just use ReLU as your default choice**\n",
        "\n",
        "$ ReLU(z)=max(0,x)$\n",
        "\n",
        "it also face vanising gradient descent problem since because for less than zero its gradient vanishing.\n",
        "\n"
      ],
      "metadata": {
        "id": "huULSCdoQcbJ"
      }
    },
    {
      "cell_type": "markdown",
      "source": [
        "# Leaky ReLU\n",
        "$ value is Leaky ReLU(z)=max(0.1x,x)$\n",
        "\n"
      ],
      "metadata": {
        "id": "zUdJ2TuCRXPS"
      }
    },
    {
      "cell_type": "markdown",
      "source": [
        "# Tanh     range(-1,1)\n",
        "\n",
        "$Tanh=(e^z-e^-z))/(e^z+e^-z) $"
      ],
      "metadata": {
        "id": "XkdelefLQbaq"
      }
    },
    {
      "cell_type": "code",
      "source": [
        "import math\n",
        "\n",
        "def sigmoid(x):\n",
        "  a=1/(1+math.exp(x))\n",
        "  return a\n",
        "\n",
        "sigmoid(100)"
      ],
      "metadata": {
        "colab": {
          "base_uri": "https://localhost:8080/"
        },
        "id": "PC878eUlQB9Y",
        "outputId": "86fd2458-1b8c-4778-96cd-c45bbcbe5c29"
      },
      "execution_count": 3,
      "outputs": [
        {
          "output_type": "execute_result",
          "data": {
            "text/plain": [
              "3.7200759760208356e-44"
            ]
          },
          "metadata": {},
          "execution_count": 3
        }
      ]
    },
    {
      "cell_type": "code",
      "source": [
        "sigmoid(-4)"
      ],
      "metadata": {
        "colab": {
          "base_uri": "https://localhost:8080/"
        },
        "id": "7ivf-5Pmr6gn",
        "outputId": "c80b7696-6fcd-4523-d2c4-effd2bc256a6"
      },
      "execution_count": 4,
      "outputs": [
        {
          "output_type": "execute_result",
          "data": {
            "text/plain": [
              "0.9820137900379085"
            ]
          },
          "metadata": {},
          "execution_count": 4
        }
      ]
    },
    {
      "cell_type": "code",
      "source": [
        "def tanh(x):\n",
        "  a=(math.exp(x)-math.exp(-x))/(math.exp(x)+math.exp(-x))\n",
        "  return a"
      ],
      "metadata": {
        "id": "cYYIFxNCsMkZ"
      },
      "execution_count": 5,
      "outputs": []
    },
    {
      "cell_type": "code",
      "source": [
        "tanh(50)\n",
        "tanh(-5)"
      ],
      "metadata": {
        "colab": {
          "base_uri": "https://localhost:8080/"
        },
        "id": "yqefSaGSsnDy",
        "outputId": "c721c0bd-ff3f-4b00-ae18-5c5e3ef3bba0"
      },
      "execution_count": 6,
      "outputs": [
        {
          "output_type": "execute_result",
          "data": {
            "text/plain": [
              "-0.999909204262595"
            ]
          },
          "metadata": {},
          "execution_count": 6
        }
      ]
    },
    {
      "cell_type": "code",
      "source": [
        "def Relu(x):\n",
        "  return max(0,x)"
      ],
      "metadata": {
        "id": "cZlpkCV6splA"
      },
      "execution_count": 7,
      "outputs": []
    },
    {
      "cell_type": "code",
      "source": [
        "Relu(40)"
      ],
      "metadata": {
        "colab": {
          "base_uri": "https://localhost:8080/"
        },
        "id": "stPSDuHBswLo",
        "outputId": "a129e7b4-7c27-4636-ed0a-e459682fd543"
      },
      "execution_count": 8,
      "outputs": [
        {
          "output_type": "execute_result",
          "data": {
            "text/plain": [
              "40"
            ]
          },
          "metadata": {},
          "execution_count": 8
        }
      ]
    },
    {
      "cell_type": "code",
      "source": [
        "Relu(-34)"
      ],
      "metadata": {
        "colab": {
          "base_uri": "https://localhost:8080/"
        },
        "id": "RrRtTK5Usxof",
        "outputId": "df56b19d-d925-41f5-f04c-8f994a021183"
      },
      "execution_count": 9,
      "outputs": [
        {
          "output_type": "execute_result",
          "data": {
            "text/plain": [
              "0"
            ]
          },
          "metadata": {},
          "execution_count": 9
        }
      ]
    },
    {
      "cell_type": "code",
      "source": [
        "def LeakyRelu(x):\n",
        "  return max(0.1*x,x)\n",
        "LeakyRelu(-5)"
      ],
      "metadata": {
        "colab": {
          "base_uri": "https://localhost:8080/"
        },
        "id": "D75_JeeLsy_W",
        "outputId": "1fca8ef1-b5aa-4d59-af02-b389513ce103"
      },
      "execution_count": 10,
      "outputs": [
        {
          "output_type": "execute_result",
          "data": {
            "text/plain": [
              "-0.5"
            ]
          },
          "metadata": {},
          "execution_count": 10
        }
      ]
    },
    {
      "cell_type": "code",
      "source": [],
      "metadata": {
        "id": "EqHUTHPfs-b0"
      },
      "execution_count": null,
      "outputs": []
    }
  ]
}